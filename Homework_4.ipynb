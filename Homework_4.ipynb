{
 "cells": [
  {
   "cell_type": "markdown",
   "metadata": {},
   "source": [
    "# ADM Homework 4 Group 11\n",
    "\n",
    "## 1) Does basic house information reflect house's description?\n",
    "In this assignment we will perform a clustering analysis of house announcements in Rome from Immobiliare.it.\n",
    "\n",
    "Let's start preparing the enironment loading the libraries:"
   ]
  },
  {
   "cell_type": "code",
   "execution_count": 1,
   "metadata": {},
   "outputs": [],
   "source": [
    "import pandas as pd\n",
    "from bs4 import BeautifulSoup\n",
    "from requests import get\n",
    "import csv"
   ]
  },
  {
   "cell_type": "markdown",
   "metadata": {},
   "source": [
    "We'll scrape some data from the website starting from this url:\n",
    "\n",
    "https://www.immobiliare.it/vendita-case/roma/?criterio=rilevanza&pag=1\n",
    "\n",
    "In the url we can notice a parameter referring to the pagination of the results, divided in pages. Each of this pages contains 25 announces.\n",
    "\n",
    "In order to reach at least 10.000 announces, we need to scrape at least 400 pages.\n",
    "\n",
    "First we create the function that returns the urls of the announces inside a page."
   ]
  },
  {
   "cell_type": "code",
   "execution_count": 2,
   "metadata": {},
   "outputs": [],
   "source": [
    "def get_announces(url):\n",
    "    response = get(url)\n",
    "\n",
    "    html_soup = BeautifulSoup(response.text, 'html.parser')\n",
    "    announce_containers = html_soup.find_all('p', class_ = 'titolo text-primary')\n",
    "    \n",
    "    urls = []\n",
    "    \n",
    "    for container in announce_containers:\n",
    "        if \"/nuove_costruzioni/\" not in container.a['href']: \n",
    "            urls.append(container.a['href'])\n",
    "        \n",
    "    return urls"
   ]
  },
  {
   "cell_type": "markdown",
   "metadata": {},
   "source": [
    "Let's create a list with all the announces urls we need. We save it in a csv file to avoid scraping all the pages again."
   ]
  },
  {
   "cell_type": "code",
   "execution_count": 13,
   "metadata": {},
   "outputs": [],
   "source": [
    "url_list = []\n",
    "\n",
    "for i in range(1,450):\n",
    "    url = 'https://www.immobiliare.it/vendita-case/roma/?criterio=rilevanza&pag='\n",
    "    url_list = url_list + get_announces(url + str(i))\n",
    "\n",
    "with open('data/url_list.csv', 'w+', newline='') as myfile:\n",
    "    wr = csv.writer(myfile, quoting=csv.QUOTE_ALL)\n",
    "    for url in url_list:\n",
    "        wr.writerow([url])"
   ]
  },
  {
   "cell_type": "code",
   "execution_count": 15,
   "metadata": {},
   "outputs": [
    {
     "data": {
      "text/html": [
       "<div>\n",
       "<style scoped>\n",
       "    .dataframe tbody tr th:only-of-type {\n",
       "        vertical-align: middle;\n",
       "    }\n",
       "\n",
       "    .dataframe tbody tr th {\n",
       "        vertical-align: top;\n",
       "    }\n",
       "\n",
       "    .dataframe thead th {\n",
       "        text-align: right;\n",
       "    }\n",
       "</style>\n",
       "<table border=\"1\" class=\"dataframe\">\n",
       "  <thead>\n",
       "    <tr style=\"text-align: right;\">\n",
       "      <th></th>\n",
       "      <th>0</th>\n",
       "    </tr>\n",
       "  </thead>\n",
       "  <tbody>\n",
       "    <tr>\n",
       "      <th>0</th>\n",
       "      <td>https://www.immobiliare.it/53131931-Vendita-Bi...</td>\n",
       "    </tr>\n",
       "    <tr>\n",
       "      <th>1</th>\n",
       "      <td>https://www.immobiliare.it/70420586-Vendita-Bi...</td>\n",
       "    </tr>\n",
       "    <tr>\n",
       "      <th>2</th>\n",
       "      <td>https://www.immobiliare.it/70288308-Vendita-Ap...</td>\n",
       "    </tr>\n",
       "    <tr>\n",
       "      <th>3</th>\n",
       "      <td>https://www.immobiliare.it/70114826-Vendita-Tr...</td>\n",
       "    </tr>\n",
       "    <tr>\n",
       "      <th>4</th>\n",
       "      <td>https://www.immobiliare.it/70355074-Vendita-Tr...</td>\n",
       "    </tr>\n",
       "  </tbody>\n",
       "</table>\n",
       "</div>"
      ],
      "text/plain": [
       "                                                   0\n",
       "0  https://www.immobiliare.it/53131931-Vendita-Bi...\n",
       "1  https://www.immobiliare.it/70420586-Vendita-Bi...\n",
       "2  https://www.immobiliare.it/70288308-Vendita-Ap...\n",
       "3  https://www.immobiliare.it/70114826-Vendita-Tr...\n",
       "4  https://www.immobiliare.it/70355074-Vendita-Tr..."
      ]
     },
     "execution_count": 15,
     "metadata": {},
     "output_type": "execute_result"
    }
   ],
   "source": [
    "url_list = pd.read_csv('data/url_list.csv', header=None)\n",
    "url_list.head()"
   ]
  },
  {
   "cell_type": "code",
   "execution_count": null,
   "metadata": {},
   "outputs": [],
   "source": []
  }
 ],
 "metadata": {
  "kernelspec": {
   "display_name": "Python 3",
   "language": "python",
   "name": "python3"
  },
  "language_info": {
   "codemirror_mode": {
    "name": "ipython",
    "version": 3
   },
   "file_extension": ".py",
   "mimetype": "text/x-python",
   "name": "python",
   "nbconvert_exporter": "python",
   "pygments_lexer": "ipython3",
   "version": "3.7.1"
  }
 },
 "nbformat": 4,
 "nbformat_minor": 2
}
