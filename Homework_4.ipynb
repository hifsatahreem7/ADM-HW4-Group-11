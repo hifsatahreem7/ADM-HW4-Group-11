{
 "cells": [
  {
   "cell_type": "markdown",
   "metadata": {},
   "source": [
    "# ADM Homework 4 Group 11\n",
    "\n",
    "## 1) Does basic house information reflect house's description?\n",
    "In this assignment we will perform a clustering analysis of house announcements in Rome from Immobiliare.it.\n",
    "\n",
    "Let's start preparing the enironment loading the libraries:"
   ]
  },
  {
   "cell_type": "code",
   "execution_count": 1,
   "metadata": {},
   "outputs": [],
   "source": [
    "import pandas as pd\n",
    "from bs4 import BeautifulSoup\n",
    "from requests import get\n",
    "import csv\n",
    "import re"
   ]
  },
  {
   "cell_type": "markdown",
   "metadata": {},
   "source": [
    "We'll scrape some data from the website starting from this url:\n",
    "\n",
    "https://www.immobiliare.it/vendita-case/roma/?criterio=rilevanza&pag=1\n",
    "\n",
    "In the url we can notice a parameter referring to the pagination of the results, divided in pages. Each of this pages contains 25 announces.\n",
    "\n",
    "In order to reach at least 10.000 announces, we need to scrape at least 400 pages.\n",
    "\n",
    "First we create the function that returns the urls of the announces inside a page."
   ]
  },
  {
   "cell_type": "code",
   "execution_count": 2,
   "metadata": {},
   "outputs": [],
   "source": [
    "def get_announces(url):\n",
    "    response = get(url)\n",
    "\n",
    "    html_soup = BeautifulSoup(response.text, 'html.parser')\n",
    "    announce_containers = html_soup.find_all('p', class_ = 'titolo text-primary')\n",
    "    \n",
    "    urls = []\n",
    "    \n",
    "    for container in announce_containers:\n",
    "        if \"/nuove_costruzioni/\" not in container.a['href']: \n",
    "            urls.append(container.a['href'])\n",
    "        \n",
    "    return urls"
   ]
  },
  {
   "cell_type": "markdown",
   "metadata": {},
   "source": [
    "Let's create a list with all the announces urls we need. We save it in a csv file to avoid scraping all the pages again."
   ]
  },
  {
   "cell_type": "code",
   "execution_count": 3,
   "metadata": {},
   "outputs": [],
   "source": [
    "#url_list = []\n",
    "\n",
    "#for i in range(1,450):\n",
    "#    url = 'https://www.immobiliare.it/vendita-case/roma/?criterio=rilevanza&pag='\n",
    "#    url_list = url_list + get_announces(url + str(i))\n",
    "\n",
    "#with open('data/url_list.csv', 'w+', newline='') as myfile:\n",
    "#    wr = csv.writer(myfile, quoting=csv.QUOTE_ALL)\n",
    "#    for url in url_list:\n",
    "#        wr.writerow([url])"
   ]
  },
  {
   "cell_type": "code",
   "execution_count": 4,
   "metadata": {},
   "outputs": [
    {
     "data": {
      "text/plain": [
       "0    https://www.immobiliare.it/53131931-Vendita-Bi...\n",
       "1    https://www.immobiliare.it/70420586-Vendita-Bi...\n",
       "2    https://www.immobiliare.it/70288308-Vendita-Ap...\n",
       "3    https://www.immobiliare.it/70114826-Vendita-Tr...\n",
       "4    https://www.immobiliare.it/70355074-Vendita-Tr...\n",
       "Name: 0, dtype: object"
      ]
     },
     "execution_count": 4,
     "metadata": {},
     "output_type": "execute_result"
    }
   ],
   "source": [
    "url_list = pd.read_csv('data/url_list.csv', header=None)\n",
    "url_list = url_list[0]\n",
    "url_list.head()"
   ]
  },
  {
   "cell_type": "markdown",
   "metadata": {},
   "source": [
    "Now we define the function to extract the info we need from the announce page"
   ]
  },
  {
   "cell_type": "code",
   "execution_count": null,
   "metadata": {},
   "outputs": [],
   "source": [
    "def get_data(url):\n",
    "    \n",
    "    id = re.findall(r'(\\d+)', url)[0] # Get announce ID parsing the url\n",
    "    \n",
    "    response = get(url)\n",
    "\n",
    "    html_soup = BeautifulSoup(response.text, 'html.parser')\n",
    "    data_container = html_soup.find('ul', class_ = 'list-inline list-piped features__list')\n",
    "    \n",
    "    if data_container is not None:\n",
    "    \n",
    "        for item in data_container.children:\n",
    "\n",
    "            # Locate rooms number\n",
    "            if item.find('div', class_= 'features__label') and item.find('div', class_= 'features__label').contents[0] == 'locali':\n",
    "                rooms = item.find('span', class_ = 'text-bold').contents[0]\n",
    "                rooms = re.sub('[^A-Za-z0-9]+', '', rooms)\n",
    "\n",
    "            # Locate surface extension\n",
    "            if item.find('div', class_= 'features__label') and item.find('div', class_= 'features__label').contents[0] == 'superficie':\n",
    "                area = item.find('span', class_ = 'text-bold').contents[0]\n",
    "                area = re.sub('[^A-Za-z0-9]+', '', area)\n",
    "\n",
    "            # Locate bathrooms number    \n",
    "            if item.find('div', class_= 'features__label') and item.find('div', class_= 'features__label').contents[0] == 'bagni':\n",
    "                bathrooms = item.find('span', class_ = 'text-bold').contents[0]\n",
    "                bathrooms = re.sub('[^A-Za-z0-9]+', '', bathrooms)\n",
    "\n",
    "            # Locate floor number    \n",
    "            if item.find('div', class_= 'features__label') and item.find('div', class_= 'features__label').contents[0] == 'piano':\n",
    "                floor = item.find('abbr', class_ = 'text-bold').contents[0]\n",
    "                floor = re.sub('[^A-Za-z0-9]+', '', floor)\n",
    "\n",
    "            # Extract the description\n",
    "            try:\n",
    "                description = html_soup.find('div', class_ = 'col-xs-12 description-text text-compressed').div.contents[0]\n",
    "                description = re.sub('[^a-zA-Z0-9-_*. ]', '', description) # Remove special charachters\n",
    "                description = description.lstrip(' ') # Remove leading blank spaces\n",
    "            except AttributeError:\n",
    "                return False\n",
    "        \n",
    "    try:\n",
    "        return [[id,rooms,area,bathrooms,floor],[id,description]]\n",
    "    except NameError:\n",
    "        return False   "
   ]
  },
  {
   "cell_type": "code",
   "execution_count": null,
   "metadata": {},
   "outputs": [
    {
     "data": {
      "text/plain": [
       "False"
      ]
     },
     "execution_count": 6,
     "metadata": {},
     "output_type": "execute_result"
    }
   ],
   "source": [
    "get_data('https://www.immobiliare.it/70355074-Vendita-Trilocale-viale-Cortina-D-Ampezzo-Roma.html')"
   ]
  },
  {
   "cell_type": "markdown",
   "metadata": {},
   "source": [
    "Now we can iterate the url list extracting all the data to put them in two dataframes.\n",
    "\n",
    "In order to save execution time for the next runs, we save the two dataframse in two csv files."
   ]
  },
  {
   "cell_type": "code",
   "execution_count": null,
   "metadata": {},
   "outputs": [
    {
     "name": "stdout",
     "output_type": "stream",
     "text": [
      "https://www.immobiliare.it/53131931-Vendita-Bilocale-viale-Italo-Calvino-Roma.html\n",
      "https://www.immobiliare.it/70420586-Vendita-Bilocale-via-Prenestina-59-Roma.html\n",
      "https://www.immobiliare.it/70288308-Vendita-Appartamento-via-della-Fotografia-Roma.html\n",
      "https://www.immobiliare.it/70114826-Vendita-Trilocale-via-Genserico-Fontana-11-Roma.html\n",
      "https://www.immobiliare.it/70355074-Vendita-Trilocale-viale-Cortina-D-Ampezzo-Roma.html\n",
      "https://www.immobiliare.it/69659060-Vendita-Appartamento-via-Germanico-24-Roma.html\n",
      "https://www.immobiliare.it/66479763-Vendita-Appartamento-via-Sesto-Rufo-42-Roma.html\n",
      "https://www.immobiliare.it/61733354-Vendita-Appartamento-via-Dandolo-Roma.html\n",
      "https://www.immobiliare.it/64762998-Vendita-Attico-Mansarda-viale-Ezra-Pound-Roma.html\n",
      "https://www.immobiliare.it/70043828-Vendita-Appartamento-via-del-Calice-Roma.html\n",
      "https://www.immobiliare.it/69084658-Vendita-Appartamento-via-Caroncini-Roma.html\n",
      "https://www.immobiliare.it/70343364-Vendita-Trilocale-viale-della-Venezia-Giulia-50-Roma.html\n",
      "https://www.immobiliare.it/69826494-Vendita-Appartamento-viale-dell-Oceano-Atlantico-Roma.html\n",
      "https://www.immobiliare.it/69728680-Vendita-Trilocale-via-della-Camilluccia-273-Roma.html\n",
      "https://www.immobiliare.it/68751099-Vendita-Bilocale-via-Savona-Roma.html\n",
      "https://www.immobiliare.it/69592474-Vendita-Appartamento-via-Della-Farnesina-Roma.html\n",
      "https://www.immobiliare.it/69599432-Vendita-Trilocale-via-Raffaele-De-Ferrari-60-Roma.html\n",
      "https://www.immobiliare.it/69206492-Vendita-Trilocale-via-Pietro-Rovetti-166-Roma.html\n",
      "https://www.immobiliare.it/68159131-Vendita-Appartamento-via-del-Forte-Trionfale-1-Roma.html\n",
      "https://www.immobiliare.it/68153189-Vendita-Appartamento-piazza-Camillo-Benso-di-Cavour-Roma.html\n",
      "https://www.immobiliare.it/64957198-Vendita-Appartamento-via-del-Biscione-Roma.html\n",
      "https://www.immobiliare.it/69862702-Vendita-Appartamento-via-San-Sotero-Roma.html\n",
      "https://www.immobiliare.it/68902925-Vendita-Attico-Mansarda-via-Taranto-100-Roma.html\n",
      "https://www.immobiliare.it/67281105-Vendita-Appartamento-via-di-San-Vito-Roma.html\n",
      "https://www.immobiliare.it/63740854-Vendita-Villa-via-Australia-Roma.html\n",
      "https://www.immobiliare.it/67959361-Vendita-Appartamento-piazza-Del-Fante-Roma.html\n",
      "https://www.immobiliare.it/63857680-Vendita-Quadrilocale-viale-della-Grande-Muraglia-Roma.html\n",
      "https://www.immobiliare.it/67380229-Vendita-Trilocale-via-del-Cottanello-Roma.html\n",
      "https://www.immobiliare.it/66088401-Vendita-Bilocale-via-Silicella-17-Roma.html\n",
      "https://www.immobiliare.it/68841515-Vendita-Appartamento-via-Lorenzo-Rocci-67-Roma.html\n",
      "https://www.immobiliare.it/70114868-Vendita-Loft-Open-Space-via-Di-Capo-Le-Case-Roma.html\n",
      "https://www.immobiliare.it/70376212-Vendita-Trilocale-via-Francesco-Gentile-Roma.html\n",
      "https://www.immobiliare.it/69668334-Vendita-Quadrilocale-via-di-montemignaio-Roma.html\n",
      "https://www.immobiliare.it/69451666-Vendita-Trilocale-via-della-Balduina-Roma.html\n",
      "https://www.immobiliare.it/69586174-Vendita-Appartamento-Cortina-D-ampezzo-Roma.html\n",
      "https://www.immobiliare.it/69253850-Vendita-Appartamento-via-Courmayeur-Roma.html\n",
      "https://www.immobiliare.it/67622989-Vendita-Appartamento-via-San-Marcello-Pistoiese-73-Roma.html\n",
      "https://www.immobiliare.it/64401288-Vendita-Villa-via-Cristoforo-Sabbadino-Roma.html\n",
      "https://www.immobiliare.it/67751455-Vendita-Quadrilocale-viale-Carso-Roma.html\n",
      "https://www.immobiliare.it/69613394-Vendita-Trilocale-via-Arnaldo-Cantani-Roma.html\n",
      "https://www.immobiliare.it/68032821-Vendita-Palazzo-Stabile-via-Nomentana-Roma.html\n",
      "https://www.immobiliare.it/68929529-Vendita-Trilocale-via-Mattia-Battistini-220C-Roma.html\n",
      "https://www.immobiliare.it/68373749-Vendita-Appartamento-via-dei-Gandolfi-Roma.html\n",
      "https://www.immobiliare.it/66093203-Vendita-Attico-Mansarda-piazzale-delle-Medaglie-Roma.html\n",
      "https://www.immobiliare.it/69686894-Vendita-Bilocale-via-Ignazio-Ribotti-Roma.html\n",
      "https://www.immobiliare.it/69353672-Vendita-Villa-via-Camillo-Porzio-Roma.html\n",
      "https://www.immobiliare.it/70084416-Vendita-Appartamento-via-Nomentana-833-Roma.html\n",
      "https://www.immobiliare.it/69292298-Vendita-Appartamento-via-della-Farnesina-323-Roma.html\n",
      "https://www.immobiliare.it/69041486-Vendita-Appartamento-via-Massimi-Roma.html\n",
      "https://www.immobiliare.it/64540628-Vendita-Quadrilocale-viale-Angelico-Roma.html\n",
      "https://www.immobiliare.it/70266408-Vendita-Appartamento-via-Dei-Monti-Parioli-Roma.html\n",
      "https://www.immobiliare.it/69727066-Vendita-Villa-via-Cristoforo-Sabbadino-88-Roma.html\n",
      "https://www.immobiliare.it/61837974-Vendita-Appartamento-viale-dell-Aeronautica-Roma.html\n",
      "https://www.immobiliare.it/61128410-Vendita-Attico-Mansarda-via-Ignazio-Scimonelli-130-Roma.html\n",
      "https://www.immobiliare.it/69904842-Vendita-Villa-via-Raffaele-Conforti-67-Roma.html\n",
      "https://www.immobiliare.it/70041836-Vendita-Quadrilocale-viale-Bruno-Pelizzi-281-Roma.html\n",
      "https://www.immobiliare.it/68597785-Vendita-Bilocale-viale-delle-Medaglie-d-Oro-124-Roma.html\n",
      "https://www.immobiliare.it/67281797-Vendita-Quadrilocale-via-dei-Chiavari-Roma.html\n",
      "https://www.immobiliare.it/65915711-Vendita-Appartamento-via-del-Giuba-Roma.html\n",
      "https://www.immobiliare.it/70336510-Vendita-Trilocale-viale-Libia-Roma.html\n",
      "https://www.immobiliare.it/69391514-Vendita-Trilocale-via-Vallombrosa-Roma.html\n",
      "https://www.immobiliare.it/66064221-Vendita-Appartamento-viale-delle-Mura-Gianicolensi-Roma.html\n",
      "https://www.immobiliare.it/65062100-Vendita-Appartamento-piazza-Cavour-Roma.html\n",
      "https://www.immobiliare.it/63735830-Vendita-Attico-Mansarda-via-Clemente-III-14-Roma.html\n",
      "https://www.immobiliare.it/70105452-Vendita-Quadrilocale-via-Virgilio-Melandri-30-Roma.html\n",
      "https://www.immobiliare.it/69489710-Vendita-Appartamento-via-di-Pietralata-Roma.html\n",
      "https://www.immobiliare.it/69192522-Vendita-Quadrilocale-via-Aosta-45-Roma.html\n",
      "https://www.immobiliare.it/68683483-Vendita-Appartamento-viale-dell-Aeronautica-Roma.html\n",
      "https://www.immobiliare.it/67242549-Vendita-Appartamento-via-Luigi-Ungarelli-Roma.html\n",
      "https://www.immobiliare.it/67715597-Vendita-Appartamento-via-Alberto-Caroncini-Roma.html\n",
      "https://www.immobiliare.it/69866648-Vendita-Quadrilocale-via-Mario-Ridolfi-32-Roma.html\n",
      "https://www.immobiliare.it/65779135-Vendita-Trilocale-via-dei-Banchi-Vecchi-Roma.html\n",
      "https://www.immobiliare.it/69583480-Vendita-Bilocale-via-di-Vermicino-139-Roma.html\n",
      "https://www.immobiliare.it/68926129-Vendita-Appartamento-via-Edoardo-Jenner-163-Roma.html\n",
      "https://www.immobiliare.it/67012733-Vendita-Attico-Mansarda-via-della-Frezza-Roma.html\n",
      "https://www.immobiliare.it/68083741-Vendita-Villa-via-Casalmonferrato-Roma.html\n",
      "https://www.immobiliare.it/65564714-Vendita-Appartamento-via-Delle-Isole-Roma.html\n",
      "https://www.immobiliare.it/64236874-Vendita-Appartamento-via-della-Tribuna-di-Roma.html\n",
      "https://www.immobiliare.it/68862415-Vendita-Bilocale-via-Luciano-Zuccoli-49-Roma.html\n",
      "https://www.immobiliare.it/69936424-Vendita-Attico-Mansarda-piazzale-Clodio-12-Roma.html\n",
      "https://www.immobiliare.it/69778886-Vendita-Trilocale-via-Trionfale-6870-Roma.html\n",
      "https://www.immobiliare.it/69731442-Vendita-Bilocale-via-Alessandro-Cialdi-Roma.html\n",
      "https://www.immobiliare.it/69848852-Vendita-Bilocale-piazza-di-San-Cosimato-73-Roma.html\n",
      "https://www.immobiliare.it/69566282-Vendita-Attico-Mansarda-via-Bevagna-Roma.html\n",
      "https://www.immobiliare.it/65577692-Vendita-Appartamento-via-Principe-Eugenio-Roma.html\n",
      "https://www.immobiliare.it/69754878-Vendita-Box-Garage-via-Giuseppe-Renato-Bellot-46-Roma.html\n",
      "https://www.immobiliare.it/68404119-Vendita-Trilocale-largo-Ecuador-Roma.html\n",
      "https://www.immobiliare.it/66712707-Vendita-Quadrilocale-Circonvallazione-Tuscolana-140-Roma.html\n",
      "https://www.immobiliare.it/66484253-Vendita-Trilocale-via-Antonio-Ciamarra-Roma.html\n",
      "https://www.immobiliare.it/66815893-Vendita-Villa-via-Saturnia-Roma.html\n",
      "https://www.immobiliare.it/69729652-Vendita-Villa-via-della-Magliana-Nuova-20-Roma.html\n",
      "https://www.immobiliare.it/67646595-Vendita-Bilocale-via-della-Camilluccia-Roma.html\n",
      "https://www.immobiliare.it/64625120-Vendita-Trilocale-piazza-San-Giovanni-in-Roma.html\n",
      "https://www.immobiliare.it/70114842-Vendita-Attico-Mansarda-via-Degli-Orti-Di-Galba-Roma.html\n",
      "https://www.immobiliare.it/67406315-Vendita-Quadrilocale-via-della-Mendola-18-Roma.html\n",
      "https://www.immobiliare.it/66484469-Vendita-Bilocale-viale-Cortina-d-Ampezzo-Roma.html\n"
     ]
    },
    {
     "name": "stdout",
     "output_type": "stream",
     "text": [
      "https://www.immobiliare.it/70376488-Vendita-Quadrilocale-viale-Tito-Labieno-Roma.html\n",
      "https://www.immobiliare.it/68192795-Vendita-Attico-Mansarda-largo-Arturo-Donaggio-Roma.html\n",
      "https://www.immobiliare.it/68192569-Vendita-Appartamento-via-Orazio-Roma.html\n",
      "https://www.immobiliare.it/70107928-Vendita-Trilocale-via-Fontanellato-75-Roma.html\n",
      "https://www.immobiliare.it/69489816-Vendita-Appartamento-via-degli-Spagnoli-Roma.html\n",
      "https://www.immobiliare.it/66650211-Vendita-Appartamento-via-dei-Colli-della-Roma.html\n",
      "https://www.immobiliare.it/69722980-Vendita-Quadrilocale-via-Cristoforo-Sabbadino-Roma.html\n",
      "https://www.immobiliare.it/69090654-Vendita-Bilocale-via-Ezio-Sciamanna-12-Roma.html\n",
      "https://www.immobiliare.it/67991129-Vendita-Loft-Open-Space-via-della-Fontana-5-Roma.html\n",
      "https://www.immobiliare.it/68986837-Vendita-Bilocale-via-del-Cottanello-Roma.html\n",
      "https://www.immobiliare.it/68601391-Vendita-Attico-Mansarda-via-Nicolo-Piccolomini-Roma.html\n",
      "https://www.immobiliare.it/67414483-Vendita-Appartamento-via-Di-Villa-Ada-Roma.html\n",
      "https://www.immobiliare.it/67401927-Vendita-Trilocale-via-del-Cottanello-Roma.html\n",
      "https://www.immobiliare.it/66667845-Vendita-Attico-Mansarda-piazza-di-San-Calisto-Roma.html\n",
      "https://www.immobiliare.it/67738567-Vendita-Attico-Mansarda-via-degli-Armenti-70-Roma.html\n",
      "https://www.immobiliare.it/67344901-Vendita-Appartamento-via-Pompeo-neri-Roma.html\n",
      "https://www.immobiliare.it/63420032-Vendita-Attico-Mansarda-via-dei-Baullari-Roma.html\n",
      "https://www.immobiliare.it/60582078-Vendita-Bilocale-via-Dei-Banchi-Nuovi-Roma.html\n",
      "https://www.immobiliare.it/70373904-Vendita-Trilocale-via-Columella-Roma.html\n",
      "https://www.immobiliare.it/63015050-Vendita-Trilocale-viale-dei-Quattro-Venti-Roma.html\n",
      "https://www.immobiliare.it/70089532-Vendita-Appartamento-viale-parioli-37-Roma.html\n",
      "https://www.immobiliare.it/69728540-Vendita-Villa-via-di-Mezzocammino-Roma.html\n",
      "https://www.immobiliare.it/68842493-Vendita-Appartamento-via-Nomentana-Roma.html\n",
      "https://www.immobiliare.it/66890473-Vendita-Appartamento-via-Margutta-Roma.html\n",
      "https://www.immobiliare.it/66813545-Vendita-Appartamento-via-di-San-Bartolomeo-de-Roma.html\n",
      "https://www.immobiliare.it/68632829-Vendita-Trilocale-via-Foligno-14-Roma.html\n",
      "https://www.immobiliare.it/68172417-Vendita-Trilocale-via-L-Aquila-33-Roma.html\n",
      "https://www.immobiliare.it/67854699-Vendita-Attico-Mansarda-viale-delle-Medaglie-d-Oro-280-Roma.html\n"
     ]
    }
   ],
   "source": [
    "data_df = pd.DataFrame(columns = ['ID','Rooms','Area','Bathrooms','Floor'])\n",
    "\n",
    "description_df = pd.DataFrame(columns = ['ID','Description'])\n",
    "\n",
    "for url in url_list:\n",
    "    \n",
    "    print(url)\n",
    "    while True:\n",
    "        try:\n",
    "            if get_data(url):\n",
    "\n",
    "                # Convert list in dataframe\n",
    "                row_data = pd.np.asarray(get_data(url)[0])\n",
    "                row_data = pd.DataFrame(data=row_data.reshape(1,5), columns= ['ID','Rooms','Area','Bathrooms','Floor'])\n",
    "\n",
    "                # Append results to data dataframe\n",
    "                data_df = data_df.append(row_data)\n",
    "\n",
    "                # Convert list in dataframe\n",
    "                row_description = pd.np.asarray(get_data(url)[1])\n",
    "                row_description = pd.DataFrame(data=row_description.reshape(1,2), columns= ['ID','Description'])\n",
    "\n",
    "                # Append results to description dataframe\n",
    "                description_df = description_df.append(row_description)\n",
    "                \n",
    "                with open('data/data.csv', 'a') as f:\n",
    "                    row_data.to_csv(f, header=False)\n",
    "                with open('data/data.csv', 'a') as f:\n",
    "                    row_data.to_csv(f, header=False)\n",
    "        except ConnectionError:\n",
    "            print('Connection Error')\n",
    "            time.sleep(2)\n",
    "            continue\n",
    "        break\n",
    "    \n",
    "\n",
    "data_df.to_csv('data/data.csv')\n",
    "description_df.to_csv('data/description.csv')"
   ]
  },
  {
   "cell_type": "code",
   "execution_count": null,
   "metadata": {},
   "outputs": [],
   "source": []
  }
 ],
 "metadata": {
  "kernelspec": {
   "display_name": "Python 3",
   "language": "python",
   "name": "python3"
  },
  "language_info": {
   "codemirror_mode": {
    "name": "ipython",
    "version": 3
   },
   "file_extension": ".py",
   "mimetype": "text/x-python",
   "name": "python",
   "nbconvert_exporter": "python",
   "pygments_lexer": "ipython3",
   "version": "3.7.1"
  }
 },
 "nbformat": 4,
 "nbformat_minor": 2
}
